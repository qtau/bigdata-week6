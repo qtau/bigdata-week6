{
 "cells": [
  {
   "cell_type": "code",
   "execution_count": 84,
   "metadata": {
    "collapsed": true
   },
   "outputs": [],
   "source": [
    "from pymongo import MongoClient\n",
    "from bson.son import SON\n",
    "import sqlite3"
   ]
  },
  {
   "cell_type": "markdown",
   "metadata": {},
   "source": [
    "# SQL PART"
   ]
  },
  {
   "cell_type": "code",
   "execution_count": 85,
   "metadata": {
    "collapsed": true
   },
   "outputs": [],
   "source": [
    "conn = sqlite3.connect('northwind.db')\n",
    "conn.text_factory = lambda x: str(x, 'latin1')\n",
    "# Use to solve encoding issue"
   ]
  },
  {
   "cell_type": "markdown",
   "metadata": {},
   "source": [
    "### Exercise 6.1"
   ]
  },
  {
   "cell_type": "code",
   "execution_count": 86,
   "metadata": {
    "collapsed": true
   },
   "outputs": [],
   "source": [
    "query1 = \"\"\"SELECT SubQuery.OrderID, Products.ProductID, Products.ProductName\n",
    "           FROM Products INNER JOIN (\n",
    "               SELECT [Order Details].ProductID AS ProductID, [Order Details].OrderID AS OrderID\n",
    "               FROM [Order Details] INNER JOIN Orders\n",
    "               ON [Order Details].OrderID = Orders.OrderID\n",
    "               WHERE Orders.CustomerID = 'ALFKI'\n",
    "           ) AS SubQuery\n",
    "           ON Products.ProductID = SubQuery.ProductID ;\"\"\""
   ]
  },
  {
   "cell_type": "code",
   "execution_count": 87,
   "metadata": {
    "collapsed": false
   },
   "outputs": [
    {
     "name": "stdout",
     "output_type": "stream",
     "text": [
      "(10643, 28, 'Rössle Sauerkraut')\n",
      "(10643, 39, 'Chartreuse verte')\n",
      "(10643, 46, 'Spegesild')\n",
      "(10692, 63, 'Vegie-spread')\n",
      "(10702, 3, 'Aniseed Syrup')\n",
      "(10702, 76, 'Lakkalikööri')\n",
      "(10835, 59, 'Raclette Courdavault')\n",
      "(10835, 77, 'Original Frankfurter grüne Soße')\n",
      "(10952, 6, \"Grandma's Boysenberry Spread\")\n",
      "(10952, 28, 'Rössle Sauerkraut')\n",
      "(11011, 58, 'Escargots de Bourgogne')\n",
      "(11011, 71, 'Flotemysost')\n"
     ]
    }
   ],
   "source": [
    "for row in conn.execute(query1):\n",
    "    print(row)"
   ]
  },
  {
   "cell_type": "markdown",
   "metadata": {},
   "source": [
    "### Exercise 6.2"
   ]
  },
  {
   "cell_type": "code",
   "execution_count": 88,
   "metadata": {
    "collapsed": false
   },
   "outputs": [],
   "source": [
    "query2 = \"\"\"WITH Customer_Orders AS (\n",
    "               SELECT SubQuery.OrderID, Products.ProductID, Products.ProductName\n",
    "               FROM Products INNER JOIN (\n",
    "                   SELECT [Order Details].ProductID AS ProductID, [Order Details].OrderID AS OrderID\n",
    "                   FROM [Order Details] INNER JOIN Orders\n",
    "                   ON [Order Details].OrderID = Orders.OrderID\n",
    "                   WHERE Orders.CustomerID = 'ALFKI'\n",
    "                   ) AS SubQuery\n",
    "               ON Products.ProductID = SubQuery.ProductID \n",
    "            )\n",
    "            \n",
    "            SELECT Customer_Orders.*\n",
    "            FROM Customer_orders INNER JOIN ( \n",
    "                SELECT OrderID, COUNT(*) AS FREQ\n",
    "                FROM (\n",
    "                    SELECT OrderID, ProductName\n",
    "                    FROM Customer_Orders\n",
    "                    GROUP BY OrderID, ProductName\n",
    "                    ) \n",
    "                GROUP BY OrderID\n",
    "                ) AS Order_Frequency\n",
    "            ON Customer_Orders.OrderID = Order_Frequency.OrderID\n",
    "            WHERE Order_Frequency.FREQ > 1;\n",
    "            \"\"\""
   ]
  },
  {
   "cell_type": "code",
   "execution_count": 89,
   "metadata": {
    "collapsed": false
   },
   "outputs": [
    {
     "name": "stdout",
     "output_type": "stream",
     "text": [
      "(10643, 28, 'Rössle Sauerkraut')\n",
      "(10643, 39, 'Chartreuse verte')\n",
      "(10643, 46, 'Spegesild')\n",
      "(10702, 3, 'Aniseed Syrup')\n",
      "(10702, 76, 'Lakkalikööri')\n",
      "(10835, 59, 'Raclette Courdavault')\n",
      "(10835, 77, 'Original Frankfurter grüne Soße')\n",
      "(10952, 6, \"Grandma's Boysenberry Spread\")\n",
      "(10952, 28, 'Rössle Sauerkraut')\n",
      "(11011, 58, 'Escargots de Bourgogne')\n",
      "(11011, 71, 'Flotemysost')\n"
     ]
    }
   ],
   "source": [
    "for row in conn.execute(query2):\n",
    "    print(row)"
   ]
  },
  {
   "cell_type": "markdown",
   "metadata": {},
   "source": [
    "### Exercise 6.3"
   ]
  },
  {
   "cell_type": "code",
   "execution_count": 90,
   "metadata": {
    "collapsed": true
   },
   "outputs": [],
   "source": [
    "query3 = \"\"\"SELECT OrderID, ProductID, ProductName, Products.UnitPrice*Quantity, TotalPrice\n",
    "            FROM Orders\n",
    "            JOIN [Order Details] USING(OrderID)\n",
    "            JOIN Products USING(ProductID)\n",
    "            JOIN (SELECT OrderID, SUM(UnitPrice*Quantity) as TotalPrice\n",
    "                FROM Orders\n",
    "                JOIN [Order Details] USING(OrderID)\n",
    "                GROUP BY OrderID) USING(OrderID)\n",
    "            WHERE Orders.CustomerID = 'ALFKI'\n",
    "                    AND TotalPrice >= 500\"\"\""
   ]
  },
  {
   "cell_type": "code",
   "execution_count": 91,
   "metadata": {
    "collapsed": false
   },
   "outputs": [
    {
     "name": "stdout",
     "output_type": "stream",
     "text": [
      "(10643, 28, 'Rössle Sauerkraut', 684.0, 1086.0)\n",
      "(10643, 39, 'Chartreuse verte', 378, 1086.0)\n",
      "(10643, 46, 'Spegesild', 24, 1086.0)\n",
      "(10692, 63, 'Vegie-spread', 878.0, 878.0)\n",
      "(10835, 59, 'Raclette Courdavault', 825, 851)\n",
      "(10835, 77, 'Original Frankfurter grüne Soße', 26, 851)\n",
      "(11011, 58, 'Escargots de Bourgogne', 530.0, 960.0)\n",
      "(11011, 71, 'Flotemysost', 430.0, 960.0)\n"
     ]
    }
   ],
   "source": [
    "for row in conn.execute(query3):\n",
    "    print(row)"
   ]
  },
  {
   "cell_type": "markdown",
   "metadata": {},
   "source": [
    "# MongoDB PART"
   ]
  },
  {
   "cell_type": "code",
   "execution_count": 92,
   "metadata": {
    "collapsed": true
   },
   "outputs": [],
   "source": [
    "# Connexion to the database\n",
    "client = MongoClient()\n",
    "db = client.Northwind"
   ]
  },
  {
   "cell_type": "markdown",
   "metadata": {},
   "source": [
    "### Exercise 6.1"
   ]
  },
  {
   "cell_type": "code",
   "execution_count": 93,
   "metadata": {
    "collapsed": false,
    "scrolled": true
   },
   "outputs": [
    {
     "data": {
      "text/plain": [
       "{10643: {28: 'Rössle Sauerkraut', 39: 'Chartreuse verte', 46: 'Spegesild'},\n",
       " 10692: {63: 'Vegie-spread'},\n",
       " 10702: {3: 'Aniseed Syrup', 76: 'Lakkalikööri'},\n",
       " 10835: {59: 'Raclette Courdavault', 77: 'Original Frankfurter grüne Soße'},\n",
       " 10952: {6: \"Grandma's Boysenberry Spread\", 28: 'Rössle Sauerkraut'},\n",
       " 11011: {58: 'Escargots de Bourgogne', 71: 'Flotemysost'}}"
      ]
     },
     "execution_count": 93,
     "metadata": {},
     "output_type": "execute_result"
    }
   ],
   "source": [
    "# Exercise 6.1\n",
    "\n",
    "result = {}\n",
    "for order in db.orders.find({\"CustomerID\":\"ALFKI\"}):\n",
    "    result[order['OrderID']] = {}\n",
    "    for order_detail in db['order-details'].find({'OrderID':order['OrderID']}):\n",
    "        for product in db.products.find({'ProductID':order_detail['ProductID']}):\n",
    "            result[order['OrderID']][product['ProductID']] = product['ProductName']\n",
    "            \n",
    "result"
   ]
  },
  {
   "cell_type": "markdown",
   "metadata": {},
   "source": [
    "### Exercise 6.2"
   ]
  },
  {
   "cell_type": "code",
   "execution_count": 94,
   "metadata": {
    "collapsed": false,
    "scrolled": true
   },
   "outputs": [
    {
     "data": {
      "text/plain": [
       "{10643: {28: 'Rössle Sauerkraut', 39: 'Chartreuse verte', 46: 'Spegesild'},\n",
       " 10702: {3: 'Aniseed Syrup', 76: 'Lakkalikööri'},\n",
       " 10835: {59: 'Raclette Courdavault', 77: 'Original Frankfurter grüne Soße'},\n",
       " 10952: {6: \"Grandma's Boysenberry Spread\", 28: 'Rössle Sauerkraut'},\n",
       " 11011: {58: 'Escargots de Bourgogne', 71: 'Flotemysost'}}"
      ]
     },
     "execution_count": 94,
     "metadata": {},
     "output_type": "execute_result"
    }
   ],
   "source": [
    "# Exercise 6.2\n",
    "\n",
    "result = {}\n",
    "for order in db.orders.find({\"CustomerID\":\"ALFKI\"}):\n",
    "    products_in_order = set()\n",
    "    for order_detail in db['order-details'].find({'OrderID':order['OrderID']}):\n",
    "            products_in_order.add(order_detail['ProductID'])\n",
    "\n",
    "    # Count if there are more than 2 different products, if so, store them in result\n",
    "    # The set type accounts for the uniqueness\n",
    "    if len(products_in_order)>1:     \n",
    "        result[order['OrderID']] = products_in_order\n",
    "\n",
    "# Retrieving the names of the products\n",
    "final_result = {}\n",
    "for order, list_products in result.items():\n",
    "    final_result[order] = {}\n",
    "    for product in list_products:\n",
    "        final_result[order][product] = db.products.find_one({'ProductID':product})['ProductName']\n",
    "final_result"
   ]
  },
  {
   "cell_type": "markdown",
   "metadata": {},
   "source": [
    "### Exercise 6.3"
   ]
  },
  {
   "cell_type": "code",
   "execution_count": 95,
   "metadata": {
    "collapsed": false
   },
   "outputs": [
    {
     "data": {
      "text/plain": [
       "{10643: {'TotalPrice': 1086.0, 28: 684.0, 46: 24.0, 39: 378.0},\n",
       " 10692: {'TotalPrice': 878.0, 63: 878.0},\n",
       " 10835: {'TotalPrice': 851.0, 59: 825.0, 77: 26.0},\n",
       " 11011: {58: 530.0, 'TotalPrice': 960.0, 71: 430.0}}"
      ]
     },
     "execution_count": 95,
     "metadata": {},
     "output_type": "execute_result"
    }
   ],
   "source": [
    "# Exercise 6.3\n",
    "\n",
    "result = {}\n",
    "for order in db.orders.find({\"CustomerID\":\"ALFKI\"}):\n",
    "    products_in_order = []\n",
    "    price_per_product = []\n",
    "    totalPrice = 0\n",
    "    # Compute the total price for each order and store the information temporarily\n",
    "    for order_detail in db['order-details'].find({'OrderID':order['OrderID']}):\n",
    "            products_in_order.append(order_detail['ProductID'])\n",
    "            price_per_product.append(order_detail['UnitPrice']*order_detail['Quantity'])\n",
    "            totalPrice += order_detail['UnitPrice']*order_detail['Quantity']\n",
    "\n",
    "    # If the total price is >=500, then store the information permanently in result\n",
    "    if totalPrice >= 500:     \n",
    "        result[order['OrderID']] = {}\n",
    "        for i in range(len(products_in_order)):\n",
    "            result[order['OrderID']][products_in_order[i]] = price_per_product[i]\n",
    "        \n",
    "        result[order['OrderID']][\"TotalPrice\"] = totalPrice\n",
    "\n",
    "result"
   ]
  },
  {
   "cell_type": "code",
   "execution_count": null,
   "metadata": {
    "collapsed": true
   },
   "outputs": [],
   "source": []
  }
 ],
 "metadata": {
  "anaconda-cloud": {},
  "kernelspec": {
   "display_name": "Python [default]",
   "language": "python",
   "name": "python3"
  },
  "language_info": {
   "codemirror_mode": {
    "name": "ipython",
    "version": 3
   },
   "file_extension": ".py",
   "mimetype": "text/x-python",
   "name": "python",
   "nbconvert_exporter": "python",
   "pygments_lexer": "ipython3",
   "version": "3.5.2"
  }
 },
 "nbformat": 4,
 "nbformat_minor": 2
}
